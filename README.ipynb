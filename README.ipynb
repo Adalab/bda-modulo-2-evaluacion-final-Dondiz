{
 "cells": [
  {
   "cell_type": "markdown",
   "metadata": {},
   "source": [
    "# Evaluación Módulo 2: SQL en MySQL Workbench\n",
    "\n",
    "Este archivo SQL presenta una prueba de evaluación del Módulo 2 de Data Analytics de Adalab, centrándose en la base de datos Sakila. Se abordan diferentes preguntas relacionadas con diversas consultas SQL, con el objetivo de evaluar los conocimientos en la resolución de problemas prácticos.\n",
    "\n",
    "## Contenido\n",
    "\n",
    "### Antes de Comenzar\n",
    "- Se revisó el esquema de la base de datos y se seleccionaron todas las columnas de cada tabla para comprender la información disponible.\n",
    "\n",
    "### Métodos Utilizados\n",
    "- Agrupaciones y funciones agregadas\n",
    "- Filtros (LIKE, WHERE, IN, etc.)\n",
    "- Unión de tablas (INNER JOIN, LEFT JOIN)\n",
    "- Operadores especiales de filtro\n",
    "- Subconsultas y CTE’s\n",
    "\n",
    "### Herramientas\n",
    "- Se utilizó MySQL Workbench para la ejecución de las consultas.\n",
    "\n",
    "### Conclusión\n",
    "Estos ejercicios proporcionan un panorama integral de la capacidad para trabajar con SQL en el entorno de MySQL Workbench, demostrando habilidades en la formulación de consultas complejas y la resolución efectiva de problemas prácticos en el contexto de la base de datos Sakila.\n"
   ]
  }
 ],
 "metadata": {
  "kernelspec": {
   "display_name": "Python 3",
   "language": "python",
   "name": "python3"
  },
  "language_info": {
   "name": "python",
   "version": "3.10.12"
  }
 },
 "nbformat": 4,
 "nbformat_minor": 2
}
